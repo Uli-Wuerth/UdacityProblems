{
 "cells": [
  {
   "cell_type": "markdown",
   "metadata": {},
   "source": [
    "# Developing an AI application\n",
    "\n",
    "Going forward, AI algorithms will be incorporated into more and more everyday applications. For example, you might want to include an image classifier in a smart phone app. To do this, you'd use a deep learning model trained on hundreds of thousands of images as part of the overall application architecture. A large part of software development in the future will be using these types of models as common parts of applications. \n",
    "\n",
    "In this project, you'll train an image classifier to recognize different species of flowers. You can imagine using something like this in a phone app that tells you the name of the flower your camera is looking at. In practice you'd train this classifier, then export it for use in your application. We'll be using [this dataset](http://www.robots.ox.ac.uk/~vgg/data/flowers/102/index.html) of 102 flower categories, you can see a few examples below. \n",
    "\n",
    "<img src='assets/Flowers.png' width=500px>\n",
    "\n",
    "The project is broken down into multiple steps:\n",
    "\n",
    "* Load and preprocess the image dataset\n",
    "* Train the image classifier on your dataset\n",
    "* Use the trained classifier to predict image content\n",
    "\n",
    "We'll lead you through each part which you'll implement in Python.\n",
    "\n",
    "When you've completed this project, you'll have an application that can be trained on any set of labeled images. Here your network will be learning about flowers and end up as a command line application. But, what you do with your new skills depends on your imagination and effort in building a dataset. For example, imagine an app where you take a picture of a car, it tells you what the make and model is, then looks up information about it. Go build your own dataset and make something new.\n",
    "\n",
    "First up is importing the packages you'll need. It's good practice to keep all the imports at the beginning of your code. As you work through this notebook and find you need to import a package, make sure to add the import up here."
   ]
  },
  {
   "cell_type": "code",
   "execution_count": 1,
   "metadata": {},
   "outputs": [],
   "source": [
    "# Imports here\n",
    "\n",
    "import numpy as np\n",
    "import torch\n",
    "import torch.nn.functional as F\n",
    "from torchvision import datasets, transforms, models\n",
    "from torch import nn\n",
    "from torch import optim\n",
    "from collections import OrderedDict \n",
    "import timeit\n",
    "import tensorflow as tf\n",
    "import matplotlib.pyplot as plt\n",
    "from PIL import Image, ImageOps\n",
    "from workspace_utils import active_session\n"
   ]
  },
  {
   "cell_type": "markdown",
   "metadata": {},
   "source": [
    "## Load the data\n",
    "\n",
    "Here you'll use `torchvision` to load the data ([documentation](http://pytorch.org/docs/0.3.0/torchvision/index.html)). The data should be included alongside this notebook, otherwise you can [download it here](https://s3.amazonaws.com/content.udacity-data.com/nd089/flower_data.tar.gz). The dataset is split into three parts, training, validation, and testing. For the training, you'll want to apply transformations such as random scaling, cropping, and flipping. This will help the network generalize leading to better performance. You'll also need to make sure the input data is resized to 224x224 pixels as required by the pre-trained networks.\n",
    "\n",
    "The validation and testing sets are used to measure the model's performance on data it hasn't seen yet. For this you don't want any scaling or rotation transformations, but you'll need to resize then crop the images to the appropriate size.\n",
    "\n",
    "The pre-trained networks you'll use were trained on the ImageNet dataset where each color channel was normalized separately. For all three sets you'll need to normalize the means and standard deviations of the images to what the network expects. For the means, it's `[0.485, 0.456, 0.406]` and for the standard deviations `[0.229, 0.224, 0.225]`, calculated from the ImageNet images.  These values will shift each color channel to be centered at 0 and range from -1 to 1.\n",
    " "
   ]
  },
  {
   "cell_type": "code",
   "execution_count": 2,
   "metadata": {},
   "outputs": [],
   "source": [
    "data_dir = 'flowers'\n",
    "train_dir = data_dir + '/train'\n",
    "valid_dir = data_dir + '/valid'\n",
    "test_dir = data_dir + '/test'"
   ]
  },
  {
   "cell_type": "code",
   "execution_count": 3,
   "metadata": {},
   "outputs": [],
   "source": [
    "# TODO: Define your transforms for the training, validation, and testing sets\n",
    "data_transforms_train = transforms.Compose([\n",
    "                                            transforms.RandomRotation(10),\n",
    "                                            transforms.RandomResizedCrop(224),\n",
    "                                            transforms.RandomHorizontalFlip(),\n",
    "                                            transforms.ToTensor(),\n",
    "                                            transforms.Normalize([0.485, 0.456, 0.406],[0.229, 0.224, 0.225])\n",
    "                                            ])\n",
    "\n",
    "data_transforms_valid = transforms.Compose([\n",
    "                                            transforms.Resize(256),\n",
    "                                            transforms.CenterCrop(224),\n",
    "                                            transforms.ToTensor(),\n",
    "                                            transforms.Normalize([0.485, 0.456, 0.406],[0.229, 0.224, 0.225])\n",
    "                                            ])\n",
    "data_transforms_test = transforms.Compose([\n",
    "                                            transforms.Resize(256),\n",
    "                                            transforms.CenterCrop(224),\n",
    "                                            transforms.ToTensor(),\n",
    "                                            transforms.Normalize([0.485, 0.456, 0.406],[0.229, 0.224, 0.225])\n",
    "                                            ])\n",
    "\n",
    "# TODO: Load the datasets with ImageFolder\n",
    "image_datasets_train = datasets.ImageFolder(train_dir, transform = data_transforms_train)\n",
    "image_datasets_valid = datasets.ImageFolder(valid_dir, transform = data_transforms_valid)\n",
    "image_datasets_test = datasets.ImageFolder(test_dir, transform = data_transforms_test)\n",
    "\n",
    "# TODO: Using the image datasets and the trainforms, define the dataloaders\n",
    "dataloaders_train = torch.utils.data.DataLoader(image_datasets_train, batch_size = 64, shuffle = True)\n",
    "dataloaders_valid = torch.utils.data.DataLoader(image_datasets_valid, batch_size = 32) #, shuffle = True)\n",
    "dataloaders_test = torch.utils.data.DataLoader(image_datasets_test, batch_size = 32)"
   ]
  },
  {
   "cell_type": "markdown",
   "metadata": {},
   "source": [
    "### Label mapping\n",
    "\n",
    "You'll also need to load in a mapping from category label to category name. You can find this in the file `cat_to_name.json`. It's a JSON object which you can read in with the [`json` module](https://docs.python.org/2/library/json.html). This will give you a dictionary mapping the integer encoded categories to the actual names of the flowers."
   ]
  },
  {
   "cell_type": "code",
   "execution_count": 4,
   "metadata": {},
   "outputs": [],
   "source": [
    "import json\n",
    "\n",
    "with open('cat_to_name.json', 'r') as f:\n",
    "    cat_to_name = json.load(f)"
   ]
  },
  {
   "cell_type": "markdown",
   "metadata": {},
   "source": [
    "# Building and training the classifier\n",
    "\n",
    "Now that the data is ready, it's time to build and train the classifier. As usual, you should use one of the pretrained models from `torchvision.models` to get the image features. Build and train a new feed-forward classifier using those features.\n",
    "\n",
    "We're going to leave this part up to you. Refer to [the rubric](https://review.udacity.com/#!/rubrics/1663/view) for guidance on successfully completing this section. Things you'll need to do:\n",
    "\n",
    "* Load a [pre-trained network](http://pytorch.org/docs/master/torchvision/models.html) (If you need a starting point, the VGG networks work great and are straightforward to use)\n",
    "* Define a new, untrained feed-forward network as a classifier, using ReLU activations and dropout\n",
    "* Train the classifier layers using backpropagation using the pre-trained network to get the features\n",
    "* Track the loss and accuracy on the validation set to determine the best hyperparameters\n",
    "\n",
    "We've left a cell open for you below, but use as many as you need. Our advice is to break the problem up into smaller parts you can run separately. Check that each part is doing what you expect, then move on to the next. You'll likely find that as you work through each part, you'll need to go back and modify your previous code. This is totally normal!\n",
    "\n",
    "When training make sure you're updating only the weights of the feed-forward network. You should be able to get the validation accuracy above 70% if you build everything right. Make sure to try different hyperparameters (learning rate, units in the classifier, epochs, etc) to find the best model. Save those hyperparameters to use as default values in the next part of the project.\n",
    "\n",
    "One last important tip if you're using the workspace to run your code: To avoid having your workspace disconnect during the long-running tasks in this notebook, please read in the earlier page in this lesson called Intro to\n",
    "GPU Workspaces about Keeping Your Session Active. You'll want to include code from the workspace_utils.py module.\n",
    "\n",
    "<font color='red'>**Note for Workspace users:** If your network is over 1 GB when saved as a checkpoint, there might be issues with saving backups in your workspace. Typically this happens with wide dense layers after the convolutional layers. If your saved checkpoint is larger than 1 GB (you can open a terminal and check with `ls -lh`), you should reduce the size of your hidden layers and train again.</font>"
   ]
  },
  {
   "cell_type": "code",
   "execution_count": 5,
   "metadata": {},
   "outputs": [
    {
     "name": "stderr",
     "output_type": "stream",
     "text": [
      "/opt/conda/lib/python3.6/site-packages/torchvision-0.2.1-py3.6.egg/torchvision/models/densenet.py:212: UserWarning: nn.init.kaiming_normal is now deprecated in favor of nn.init.kaiming_normal_.\n",
      "Downloading: \"https://download.pytorch.org/models/densenet161-8d451a50.pth\" to /root/.torch/models/densenet161-8d451a50.pth\n",
      "100%|██████████| 115730790/115730790 [00:01<00:00, 101957358.90it/s]\n"
     ]
    }
   ],
   "source": [
    "# Build and train network\n",
    "\n",
    "model = models.densenet161(pretrained=True) # load pretrained densenet161 as model\n",
    "#print(model)\n",
    "#pretrained classifier of densenet161 is build like this:\n",
    "#(classifier): Linear(in_features=2208, out_features=1000, bias=True)\n",
    "\n",
    "    \n",
    "for param in model.parameters():\n",
    "    param.requires_grad = False #keep feature parameters by not calculating gradients\n",
    "\n",
    "model.classifier = nn.Sequential( #replace classifier of pretrained model with my own classifier\n",
    "                          (nn.Linear(2208, 1024)), # fully connected layer 1, (inputs match to features of vgg16, inpu. hiddenlayer)\n",
    "                          (nn.ReLU()),             # Rectified Linear Unit activation\n",
    "                          (nn.Dropout(0.3)),       # Dropout to prevent overfitting\n",
    "                          (nn.Linear(1024, 512)),  # fully connected layer 2\n",
    "                          (nn.ReLU()),             # ReLU activation\n",
    "                          (nn.Dropout(0.3)),       # Dropout to prevent overfitting\n",
    "                          (nn.Linear(512, 102)),   # fully connected layer 3 (output layer-> 102 flower categorys)              \n",
    "                          (nn.LogSoftmax(dim=1))   # output\n",
    "                                ) \n"
   ]
  },
  {
   "cell_type": "code",
   "execution_count": 6,
   "metadata": {},
   "outputs": [],
   "source": [
    "#Detect available devices\n",
    "device = torch.device('cuda' if torch.cuda.is_available() else 'cpu') "
   ]
  },
  {
   "cell_type": "code",
   "execution_count": 7,
   "metadata": {},
   "outputs": [
    {
     "name": "stdout",
     "output_type": "stream",
     "text": [
      "cuda\n"
     ]
    }
   ],
   "source": [
    "criterion = nn.NLLLoss() # Negative Log-Likelihood Loss function \n",
    "optimizer =  optim.SGD(model.classifier.parameters(), lr = 0.001, momentum=0.5) # Optimize classifier with learning rate lr\n",
    "\n",
    "model.to(device) #If available run model on GPU cuda cores. \n",
    "print(device) #check if gpu is active"
   ]
  },
  {
   "cell_type": "code",
   "execution_count": null,
   "metadata": {},
   "outputs": [],
   "source": []
  },
  {
   "cell_type": "code",
   "execution_count": 9,
   "metadata": {},
   "outputs": [
    {
     "name": "stdout",
     "output_type": "stream",
     "text": [
      "Current epoch 1/10   Training loss: 95.368   Tune loss: 4.625   Training accuracy: 0.169   Tune accuracy: 0.005   \n",
      "Current epoch 2/10   Training loss: 95.344   Tune loss: 4.625   Training accuracy: 0.331   Tune accuracy: 0.004   \n",
      "Current epoch 3/10   Training loss: 95.358   Tune loss: 4.625   Training accuracy: 0.456   Tune accuracy: 0.006   \n",
      "Current epoch 4/10   Training loss: 95.344   Tune loss: 4.625   Training accuracy: 0.594   Tune accuracy: 0.006   \n",
      "Current epoch 5/10   Training loss: 95.340   Tune loss: 4.625   Training accuracy: 0.759   Tune accuracy: 0.004   \n",
      "Current epoch 6/10   Training loss: 95.383   Tune loss: 4.625   Training accuracy: 0.903   Tune accuracy: 0.005   \n",
      "Current epoch 7/10   Training loss: 95.348   Tune loss: 4.625   Training accuracy: 1.081   Tune accuracy: 0.005   \n",
      "Current epoch 8/10   Training loss: 95.366   Tune loss: 4.625   Training accuracy: 1.247   Tune accuracy: 0.008   \n",
      "Current epoch 9/10   Training loss: 95.353   Tune loss: 4.625   Training accuracy: 1.386   Tune accuracy: 0.005   \n",
      "Current epoch 10/10   Training loss: 95.321   Tune loss: 4.625   Training accuracy: 1.546   Tune accuracy: 0.005   \n",
      "Time: -0.012078312000369351\n"
     ]
    }
   ],
   "source": [
    "#Init variables:\n",
    "epochs = 10\n",
    "steps = 0 # training steps counter\n",
    "print_every = 5 # steps until calculating validation loss\n",
    "running_loss = 0\n",
    "running_accuracy = 0\n",
    "training_losses, tune_losses = [], []\n",
    "training_accuracy, tune_accuracy = [], []\n",
    "\n",
    "model.train() # enable training mode\n",
    "\n",
    "#Start time\n",
    "start_time = timeit.timeit()\n",
    "\n",
    "# keep the session active\n",
    "with active_session():\n",
    "    \n",
    "#Training:\n",
    "\n",
    "    for epoch in range(epochs): #Epoch loop\n",
    "\n",
    "        for images, labels in dataloaders_train: #Data Loop\n",
    "        \n",
    "            images, labels = images.to(device), labels.to(device) #send to gpu if possible\n",
    "        \n",
    "            optimizer.zero_grad() #clearing gradients in training loop\n",
    "        \n",
    "            steps+=1 #count steps\n",
    "        \n",
    "            logps = model.forward(images) # get log probabilities, forward pass\n",
    "        \n",
    "            loss = criterion(logps, labels) # loss definition\n",
    "            loss.backward() #  calculate dloss/dx, backward pass\n",
    "        \n",
    "            optimizer.step # updates values with gradient and defined learning rate lr\n",
    "            \n",
    "            running_loss += loss.item() #track the total loss\n",
    "        \n",
    "        \n",
    "            #calculate accuracy\n",
    "            ps = torch.exp(logps) #calculate probability from log probability\n",
    "            top_p, top_class = ps.topk(1, dim=1) # get top probabilities and classes\n",
    "            equals = top_class == labels.view(*top_class.shape)\n",
    "        \n",
    "            running_accuracy += torch.mean(equals.type(torch.FloatTensor)).item() #track accuracy\n",
    "    \n",
    "        # Evaluation of the model\n",
    "        tune_loss = 0 # resets every epoch\n",
    "        accuracy = 0 \n",
    "        model.eval() #enable evaluation mode\n",
    "    \n",
    "        with torch.no_grad():\n",
    "        \n",
    "            for images, labels in dataloaders_valid:\n",
    "            \n",
    "                images, labels = images.to(device), labels.to(device) #send to gpu if possible\n",
    "            \n",
    "                logps_valid = model.forward(images) # get log probabilities\n",
    "                loss = criterion(logps_valid, labels)\n",
    "                tune_loss +=loss.item()\n",
    "            \n",
    "                #calculate evaluation accuracy\n",
    "                ps = torch.exp(logps_valid)\n",
    "                top_p, top_class = ps.topk(1, dim=1) # get top probabilities and classes\n",
    "                equals = top_class == labels.view(*top_class.shape)\n",
    "            \n",
    "                accuracy += torch.mean(equals.type(torch.FloatTensor)).item()\n",
    "            \n",
    "        training_losses.append(running_loss/len(dataloaders_train))\n",
    "        tune_losses.append(tune_loss/len(dataloaders_valid))\n",
    "    \n",
    "        training_accuracy.append(running_accuracy/len(dataloaders_train))\n",
    "        tune_accuracy.append(accuracy/len(dataloaders_valid))\n",
    "    \n",
    "        print(f\"Current epoch {epoch+1}/{epochs}   \"\n",
    "              f\"Training loss: {running_loss/print_every:.3f}   \"\n",
    "              f\"Tune loss: {tune_loss/len(dataloaders_valid):.3f}   \"\n",
    "              f\"Training accuracy: {running_accuracy/print_every:.3f}   \"\n",
    "              f\"Tune accuracy: {accuracy/len(dataloaders_valid):.3f}   \")\n",
    "    \n",
    "        running_loss = 0\n",
    "        model.train()\n",
    "    \n",
    "end_time = timeit.timeit()   # stop time\n",
    "print(f'Time: {end_time - start_time}') # print time needed to excecute training and evaluation"
   ]
  },
  {
   "cell_type": "code",
   "execution_count": null,
   "metadata": {},
   "outputs": [],
   "source": []
  },
  {
   "cell_type": "markdown",
   "metadata": {},
   "source": [
    "## Testing your network\n",
    "\n",
    "It's good practice to test your trained network on test data, images the network has never seen either in training or validation. This will give you a good estimate for the model's performance on completely new images. Run the test images through the network and measure the accuracy, the same way you did validation. You should be able to reach around 70% accuracy on the test set if the model has been trained well."
   ]
  },
  {
   "cell_type": "code",
   "execution_count": 10,
   "metadata": {},
   "outputs": [
    {
     "name": "stdout",
     "output_type": "stream",
     "text": [
      "Test accuracy: 0.004   \n"
     ]
    }
   ],
   "source": [
    "# TODO: Do validation on the test set\n",
    "test_loss = 0\n",
    "accuracy_test = 0\n",
    "model.to(device)\n",
    "\n",
    "with torch.no_grad():\n",
    "        \n",
    "            for images, labels in dataloaders_test:\n",
    "            \n",
    "                images, labels = images.to(device), labels.to(device) #send to gpu if possible\n",
    "            \n",
    "                logps_test = model.forward(images) # get log probabilities\n",
    "                loss = criterion(logps_test, labels)\n",
    "                test_loss += loss.item()\n",
    "            \n",
    "                #calculate test accuracy\n",
    "                ps = torch.exp(logps_test)\n",
    "                top_p, top_class = ps.topk(1, dim=1) # get top probabilities and classes\n",
    "                equals = top_class == labels.view(*top_class.shape)\n",
    "            \n",
    "                accuracy_test += torch.mean(equals.type(torch.FloatTensor)).item()\n",
    "                \n",
    "print(f\"Test accuracy: {accuracy_test/len(dataloaders_test):.3f}   \")"
   ]
  },
  {
   "cell_type": "markdown",
   "metadata": {},
   "source": [
    "## Save the checkpoint\n",
    "\n",
    "Now that your network is trained, save the model so you can load it later for making predictions. You probably want to save other things such as the mapping of classes to indices which you get from one of the image datasets: `image_datasets['train'].class_to_idx`. You can attach this to the model as an attribute which makes inference easier later on.\n",
    "\n",
    "```model.class_to_idx = image_datasets['train'].class_to_idx```\n",
    "\n",
    "Remember that you'll want to completely rebuild the model later so you can use it for inference. Make sure to include any information you need in the checkpoint. If you want to load the model and keep training, you'll want to save the number of epochs as well as the optimizer state, `optimizer.state_dict`. You'll likely want to use this trained model in the next part of the project, so best to save it now."
   ]
  },
  {
   "cell_type": "code",
   "execution_count": 11,
   "metadata": {},
   "outputs": [],
   "source": [
    "#Save checkpoint\n",
    "model.class_to_idx = image_datasets_train.class_to_idx\n",
    "torch.save({'classifier': model.classifier,\n",
    "            'epochs': epochs,\n",
    "            'epoch': epoch,\n",
    "            'steps' : steps,\n",
    "            'optimizer': optimizer.state_dict(),\n",
    "            'state_dict': model.state_dict(),\n",
    "            'class_to_idx': model.class_to_idx},\n",
    "            'savemytraindata.pth')\n",
    "\n"
   ]
  },
  {
   "cell_type": "markdown",
   "metadata": {},
   "source": [
    "## Loading the checkpoint\n",
    "\n",
    "At this point it's good to write a function that can load a checkpoint and rebuild the model. That way you can come back to this project and keep working on it without having to retrain the network."
   ]
  },
  {
   "cell_type": "code",
   "execution_count": null,
   "metadata": {},
   "outputs": [],
   "source": [
    "# TODO: Write a function that loads a checkpoint and rebuilds the model"
   ]
  },
  {
   "cell_type": "markdown",
   "metadata": {},
   "source": [
    "# Inference for classification\n",
    "\n",
    "Now you'll write a function to use a trained network for inference. That is, you'll pass an image into the network and predict the class of the flower in the image. Write a function called `predict` that takes an image and a model, then returns the top $K$ most likely classes along with the probabilities. It should look like \n",
    "\n",
    "```python\n",
    "probs, classes = predict(image_path, model)\n",
    "print(probs)\n",
    "print(classes)\n",
    "> [ 0.01558163  0.01541934  0.01452626  0.01443549  0.01407339]\n",
    "> ['70', '3', '45', '62', '55']\n",
    "```\n",
    "\n",
    "First you'll need to handle processing the input image such that it can be used in your network. \n",
    "\n",
    "## Image Preprocessing\n",
    "\n",
    "You'll want to use `PIL` to load the image ([documentation](https://pillow.readthedocs.io/en/latest/reference/Image.html)). It's best to write a function that preprocesses the image so it can be used as input for the model. This function should process the images in the same manner used for training. \n",
    "\n",
    "First, resize the images where the shortest side is 256 pixels, keeping the aspect ratio. This can be done with the [`thumbnail`](http://pillow.readthedocs.io/en/3.1.x/reference/Image.html#PIL.Image.Image.thumbnail) or [`resize`](http://pillow.readthedocs.io/en/3.1.x/reference/Image.html#PIL.Image.Image.thumbnail) methods. Then you'll need to crop out the center 224x224 portion of the image.\n",
    "\n",
    "Color channels of images are typically encoded as integers 0-255, but the model expected floats 0-1. You'll need to convert the values. It's easiest with a Numpy array, which you can get from a PIL image like so `np_image = np.array(pil_image)`.\n",
    "\n",
    "As before, the network expects the images to be normalized in a specific way. For the means, it's `[0.485, 0.456, 0.406]` and for the standard deviations `[0.229, 0.224, 0.225]`. You'll want to subtract the means from each color channel, then divide by the standard deviation. \n",
    "\n",
    "And finally, PyTorch expects the color channel to be the first dimension but it's the third dimension in the PIL image and Numpy array. You can reorder dimensions using [`ndarray.transpose`](https://docs.scipy.org/doc/numpy-1.13.0/reference/generated/numpy.ndarray.transpose.html). The color channel needs to be first and retain the order of the other two dimensions."
   ]
  },
  {
   "cell_type": "code",
   "execution_count": null,
   "metadata": {},
   "outputs": [],
   "source": [
    "def process_image(image):\n",
    "    ''' Scales, crops, and normalizes a PIL image for a PyTorch model,\n",
    "        returns an Numpy array\n",
    "    '''\n",
    "    \n",
    "    # TODO: Process a PIL image for use in a PyTorch model"
   ]
  },
  {
   "cell_type": "markdown",
   "metadata": {},
   "source": [
    "To check your work, the function below converts a PyTorch tensor and displays it in the notebook. If your `process_image` function works, running the output through this function should return the original image (except for the cropped out portions)."
   ]
  },
  {
   "cell_type": "code",
   "execution_count": null,
   "metadata": {},
   "outputs": [],
   "source": [
    "def imshow(image, ax=None, title=None):\n",
    "    \"\"\"Imshow for Tensor.\"\"\"\n",
    "    if ax is None:\n",
    "        fig, ax = plt.subplots()\n",
    "    \n",
    "    # PyTorch tensors assume the color channel is the first dimension\n",
    "    # but matplotlib assumes is the third dimension\n",
    "    image = image.numpy().transpose((1, 2, 0))\n",
    "    \n",
    "    # Undo preprocessing\n",
    "    mean = np.array([0.485, 0.456, 0.406])\n",
    "    std = np.array([0.229, 0.224, 0.225])\n",
    "    image = std * image + mean\n",
    "    \n",
    "    # Image needs to be clipped between 0 and 1 or it looks like noise when displayed\n",
    "    image = np.clip(image, 0, 1)\n",
    "    \n",
    "    ax.imshow(image)\n",
    "    \n",
    "    return ax"
   ]
  },
  {
   "cell_type": "markdown",
   "metadata": {},
   "source": [
    "## Class Prediction\n",
    "\n",
    "Once you can get images in the correct format, it's time to write a function for making predictions with your model. A common practice is to predict the top 5 or so (usually called top-$K$) most probable classes. You'll want to calculate the class probabilities then find the $K$ largest values.\n",
    "\n",
    "To get the top $K$ largest values in a tensor use [`x.topk(k)`](http://pytorch.org/docs/master/torch.html#torch.topk). This method returns both the highest `k` probabilities and the indices of those probabilities corresponding to the classes. You need to convert from these indices to the actual class labels using `class_to_idx` which hopefully you added to the model or from an `ImageFolder` you used to load the data ([see here](#Save-the-checkpoint)). Make sure to invert the dictionary so you get a mapping from index to class as well.\n",
    "\n",
    "Again, this method should take a path to an image and a model checkpoint, then return the probabilities and classes.\n",
    "\n",
    "```python\n",
    "probs, classes = predict(image_path, model)\n",
    "print(probs)\n",
    "print(classes)\n",
    "> [ 0.01558163  0.01541934  0.01452626  0.01443549  0.01407339]\n",
    "> ['70', '3', '45', '62', '55']\n",
    "```"
   ]
  },
  {
   "cell_type": "code",
   "execution_count": null,
   "metadata": {},
   "outputs": [],
   "source": [
    "def predict(image_path, model, topk=5):\n",
    "    ''' Predict the class (or classes) of an image using a trained deep learning model.\n",
    "    '''\n",
    "    \n",
    "    # TODO: Implement the code to predict the class from an image file"
   ]
  },
  {
   "cell_type": "markdown",
   "metadata": {},
   "source": [
    "## Sanity Checking\n",
    "\n",
    "Now that you can use a trained model for predictions, check to make sure it makes sense. Even if the testing accuracy is high, it's always good to check that there aren't obvious bugs. Use `matplotlib` to plot the probabilities for the top 5 classes as a bar graph, along with the input image. It should look like this:\n",
    "\n",
    "<img src='assets/inference_example.png' width=300px>\n",
    "\n",
    "You can convert from the class integer encoding to actual flower names with the `cat_to_name.json` file (should have been loaded earlier in the notebook). To show a PyTorch tensor as an image, use the `imshow` function defined above."
   ]
  },
  {
   "cell_type": "code",
   "execution_count": null,
   "metadata": {},
   "outputs": [],
   "source": [
    "# TODO: Display an image along with the top 5 classes"
   ]
  },
  {
   "cell_type": "code",
   "execution_count": null,
   "metadata": {},
   "outputs": [],
   "source": []
  },
  {
   "cell_type": "markdown",
   "metadata": {},
   "source": [
    "<font color='red'>**Reminder for Workspace users:** If your network becomes very large when saved as a checkpoint, there might be issues with saving backups in your workspace. You should reduce the size of your hidden layers and train again. \n",
    "    \n",
    "We strongly encourage you to delete these large interim files and directories before navigating to another page or closing the browser tab.</font>"
   ]
  },
  {
   "cell_type": "code",
   "execution_count": 2,
   "metadata": {},
   "outputs": [],
   "source": [
    "# TODO remove .pth files or move it to a temporary `~/opt` directory in this Workspace"
   ]
  },
  {
   "cell_type": "code",
   "execution_count": null,
   "metadata": {},
   "outputs": [],
   "source": []
  }
 ],
 "metadata": {
  "kernelspec": {
   "display_name": "Python 3",
   "language": "python",
   "name": "python3"
  },
  "language_info": {
   "codemirror_mode": {
    "name": "ipython",
    "version": 3
   },
   "file_extension": ".py",
   "mimetype": "text/x-python",
   "name": "python",
   "nbconvert_exporter": "python",
   "pygments_lexer": "ipython3",
   "version": "3.6.3"
  }
 },
 "nbformat": 4,
 "nbformat_minor": 2
}
